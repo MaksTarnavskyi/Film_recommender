{
 "cells": [
  {
   "cell_type": "code",
   "execution_count": 1,
   "metadata": {
    "collapsed": true
   },
   "outputs": [],
   "source": [
    "import numpy as np\n",
    "import socket\n",
    "import sys\n",
    "import time\n",
    "from tabulate import tabulate"
   ]
  },
  {
   "cell_type": "code",
   "execution_count": 2,
   "metadata": {
    "collapsed": true
   },
   "outputs": [],
   "source": [
    "def send(text):\n",
    "    sock.sendall(text.encode(\"utf-8\"))\n",
    "    \n",
    "def receive():\n",
    "    data = sock.recv(1024)\n",
    "    udata = data.decode(\"utf-8\")\n",
    "    return udata"
   ]
  },
  {
   "cell_type": "markdown",
   "metadata": {},
   "source": [
    "# Client"
   ]
  },
  {
   "cell_type": "code",
   "execution_count": null,
   "metadata": {
    "scrolled": false
   },
   "outputs": [
    {
     "name": "stdout",
     "output_type": "stream",
     "text": [
      "Welcome to the film recommender!\n",
      "---------------------------------------------------------\n",
      "\n",
      "In this program you can find\n",
      "1 - the best films of a certain genre or all genres\n",
      "2 - simmilar films to the given one\n",
      "3 - random films\n",
      "\n",
      "Input number of the mode: 2\n",
      "\n",
      "Write the name of the film: avatar\n",
      "\n",
      "The similar films for film \"Avatar\":\n",
      "\n",
      "|   place | title                        |   year |   vote_count |   vote_average | genre           |\n",
      "|--------:|:-----------------------------|-------:|-------------:|---------------:|:----------------|\n",
      "|       1 | Terminator 2: Judgment Day   |   1991 |         4274 |            7.7 | Action          |\n",
      "|       2 | Star Wars: The Force Awakens |   2015 |         7993 |            7.5 | Action          |\n",
      "|       3 | Aliens                       |   1986 |         3282 |            7.7 | Horror          |\n",
      "|       4 | X-Men: Days of Future Past   |   2014 |         6155 |            7.5 | Action          |\n",
      "|       5 | Star Trek Into Darkness      |   2013 |         4479 |            7.4 | Action          |\n",
      "|       6 | The Terminator               |   1984 |         4208 |            7.4 | Action          |\n",
      "|       7 | Predator                     |   1987 |         2129 |            7.3 | Science Fiction |\n",
      "|       8 | Man of Steel                 |   2013 |         6462 |            6.5 | Action          |\n",
      "|       9 | The Abyss                    |   1989 |          822 |            7.1 | Adventure       |\n",
      "|      10 | Jupiter Ascending            |   2015 |         2816 |            5.2 | Science Fiction |\n",
      "\n",
      "Something else? (Y)y\n",
      "---------------------------------------------------------\n",
      "\n",
      "In this program you can find\n",
      "1 - the best films of a certain genre or all genres\n",
      "2 - simmilar films to the given one\n",
      "3 - random films\n",
      "\n",
      "Input number of the mode: 3\n",
      "\n",
      "How many films do you want to see in the list (from 1 to 1000)\n",
      "Input number of films: 20\n",
      "\n",
      "Input the year of the oldest film: (from 0 to 2017)\n",
      "Input year of films: 2015\n",
      "|   place | title                                      |   year |   vote_count |   vote_average | genre       |\n",
      "|--------:|:-------------------------------------------|-------:|-------------:|---------------:|:------------|\n",
      "|       1 | The Farthest                               |   2017 |            6 |            8.3 | Documentary |\n",
      "|       2 | Brooklyn                                   |   2015 |         1235 |            7.2 | Drama       |\n",
      "|       3 | Court                                      |   2015 |           10 |            6.6 | Drama       |\n",
      "|       4 | Sugar Coated                               |   2015 |            9 |            7.4 | Documentary |\n",
      "|       5 | Miles Ahead                                |   2016 |           74 |            6.7 | Drama       |\n",
      "|       6 | Becoming Bond                              |   2017 |           10 |            7.1 | Documentary |\n",
      "|       7 | 2 Nights Till Morning                      |   2015 |            4 |            7.5 | Romance     |\n",
      "|       8 | Families                                   |   2015 |           26 |            5   | Comedy      |\n",
      "|       9 | Dare to Be Wild                            |   2015 |            3 |            5.3 | Drama       |\n",
      "|      10 | Chronicles of the Ghostly Tribe            |   2015 |           14 |            5.2 | Adventure   |\n",
      "|      11 | 90 Minutes in Heaven                       |   2015 |           40 |            5.4 | Drama       |\n",
      "|      12 | Duell der Brüder - Die Geschichte von A... |   2016 |           10 |            7.4 | Drama       |\n",
      "|      13 | Hacker's Game                              |   2015 |            9 |            5.6 | Thriller    |\n",
      "|      14 | Old 37                                     |   2015 |           10 |            4.3 | Horror      |\n",
      "|      15 | Patton Oswalt: Talking for Clapping        |   2016 |           15 |            6.9 | Comedy      |\n",
      "|      16 | Sparrows                                   |   2015 |            9 |            7.3 | Drama       |\n",
      "|      17 | Sunshine Superman                          |   2015 |           10 |            7.2 | Documentary |\n",
      "|      18 | Race to Win                                |   2016 |            5 |            5.4 | Drama       |\n",
      "|      19 | Old 37                                     |   2015 |           10 |            4.3 | Horror      |\n",
      "|      20 | Neerja                                     |   2016 |           44 |            7.4 | Drama       |\n"
     ]
    }
   ],
   "source": [
    "sock = socket.socket()\n",
    "sock.connect(('localhost', 9091))\n",
    "print(receive())\n",
    "send('Start')\n",
    "ans = receive()\n",
    "while ans != 'bye':\n",
    "    if ans == 'pr':\n",
    "        send('OK')\n",
    "        ans = receive()\n",
    "        print(ans)\n",
    "        send('OK')\n",
    "    if ans == 'in':\n",
    "        send('OK')\n",
    "        ans = receive()\n",
    "        send('wait')\n",
    "        time.sleep(0.5)\n",
    "        res = input(ans)\n",
    "        send(res)\n",
    "    if ans == 'tab':\n",
    "        send('OK')\n",
    "        res = ''\n",
    "        ans = receive()\n",
    "        while ans != 'end':\n",
    "            res += ans\n",
    "            send('OK')\n",
    "            ans = receive()\n",
    "        send('wait')\n",
    "        print(res)\n",
    "        send('OK')\n",
    "        \n",
    "    ans = receive()\n",
    "\n",
    "sock.close()"
   ]
  }
 ],
 "metadata": {
  "kernelspec": {
   "display_name": "Python 3",
   "language": "python",
   "name": "python3"
  },
  "language_info": {
   "codemirror_mode": {
    "name": "ipython",
    "version": 3
   },
   "file_extension": ".py",
   "mimetype": "text/x-python",
   "name": "python",
   "nbconvert_exporter": "python",
   "pygments_lexer": "ipython3",
   "version": "3.6.3"
  }
 },
 "nbformat": 4,
 "nbformat_minor": 2
}
